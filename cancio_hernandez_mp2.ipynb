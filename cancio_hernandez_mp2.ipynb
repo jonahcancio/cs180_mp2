{
 "cells": [
  {
   "cell_type": "markdown",
   "metadata": {},
   "source": [
    "# Pokemon Primary Type Classification"
   ]
  },
  {
   "cell_type": "markdown",
   "metadata": {},
   "source": [
    "We are going to use Neural Networks to train a model into classifying a pokemon's primary type based on its base stats.\n",
    "\n",
    "### Base Stats\n",
    "* HP\n",
    "* Attack\n",
    "* Defense\n",
    "* Special Attack\n",
    "* Special Defense\n",
    "* Speed\n",
    "\n",
    "### Types\n",
    "* NORMAL\n",
    "* FIRE\n",
    "* WATER\n",
    "* ELECTRIC\n",
    "* GRASS\n",
    "* ICE\n",
    "* FIGHTING\n",
    "* POISON\n",
    "* GROUND\n",
    "* FLYING\n",
    "* PSYCHIC\n",
    "* BUG\n",
    "* ROCK\n",
    "* GHOST\n",
    "* DRAGON\n",
    "* DARK\n",
    "* STEEL\n",
    "* FAIRY\n",
    "\n",
    "### Goal\n",
    "Determine the types of new pokemon using Neural Networks classifier:\n",
    "\n",
    "| Pokemon | HP | Atk | Def | Sp. Atk | Sp. Def | Speed | Type 1 |\n",
    "|---------|----|-----|-----|---------|---------|-------|--------|\n",
    "| Necrozma| ...| ... | ... |  ...    |  ...    |  ...  | ???    |"
   ]
  },
  {
   "cell_type": "markdown",
   "metadata": {},
   "source": [
    "## Step 1: Loading the dataset to pandas dataframe"
   ]
  },
  {
   "cell_type": "code",
   "execution_count": null,
   "metadata": {},
   "outputs": [],
   "source": [
    "data_path = \"poke.csv\""
   ]
  }
 ],
 "metadata": {
  "kernelspec": {
   "display_name": "Python 3",
   "language": "python",
   "name": "python3"
  },
  "language_info": {
   "codemirror_mode": {
    "name": "ipython",
    "version": 3
   },
   "file_extension": ".py",
   "mimetype": "text/x-python",
   "name": "python",
   "nbconvert_exporter": "python",
   "pygments_lexer": "ipython3",
   "version": "3.7.1"
  }
 },
 "nbformat": 4,
 "nbformat_minor": 2
}
